{
  "nbformat": 4,
  "nbformat_minor": 0,
  "metadata": {
    "colab": {
      "provenance": [],
      "authorship_tag": "ABX9TyOR/oD8vfUIRWoRWm55Tt2z",
      "include_colab_link": true
    },
    "kernelspec": {
      "name": "python3",
      "display_name": "Python 3"
    },
    "language_info": {
      "name": "python"
    }
  },
  "cells": [
    {
      "cell_type": "markdown",
      "metadata": {
        "id": "view-in-github",
        "colab_type": "text"
      },
      "source": [
        "<a href=\"https://colab.research.google.com/github/rtmazzeo/chat_bot/blob/main/chat_bot.ipynb\" target=\"_parent\"><img src=\"https://colab.research.google.com/assets/colab-badge.svg\" alt=\"Open In Colab\"/></a>"
      ]
    },
    {
      "cell_type": "markdown",
      "source": [
        "##Descrição do Projeto\n",
        "Imagine que você está criando um chatbot para um restaurante de pizza, onde os clientes podem fazer pedidos de pizzas disponíveis. O chatbot interagirá com os clientes, perguntando o sabor da pizza desejada e confirmará o preço, caso a pizza escolhida esteja no menu. O chatbot também será capaz de lidar com pedidos de múltiplas pizzas, calcular o valor total do pedido e fornecer uma lista final de pizzas pedidas e o valor total.\n",
        "\n",
        "### Fluxo Principal\n",
        "- Inicie o pedido chamando perguntando o pedido do cliente\n",
        "- Verifique se a pizaz escolhida está disponível no menu.\n",
        "    - Caso verdadeiro, confirme o preço da pizza.\n",
        "    - Caso falso, informe que não está no menu e peça que escolha outra opção\n",
        "- Continue perguntando ao cliente se deseja fazer outro pedido.\n",
        "- Quando o cliente não quiser fazer mais pedidos, encerre o loop.\n",
        "- Ao final do pedido, exiba um resumo com as pizzas pedidas e o valor total do pedido.\n",
        "\n",
        "### Dados Iniciais\n",
        "Tabela com pizzas disponíveis:\n",
        "\n",
        "- pizzas_disponiveis = ['pepperoni', 'queijo', 'calabresa']\n",
        "- preco_calabresa = 70.0\n",
        "- preco_queijo = 50.0\n",
        "- preco_pepperoni = 80.0"
      ],
      "metadata": {
        "id": "2u3itLV6yQN4"
      }
    },
    {
      "cell_type": "code",
      "source": [
        "pizzas_disponiveis = ['Pepperoni', 'Queijo   ', 'Calabresa']\n",
        "preco_calabresa = 70.0\n",
        "preco_queijo = 50.0\n",
        "preco_pepperoni = 80.0\n",
        "preco_pizza = [preco_pepperoni,preco_queijo,preco_calabresa]\n",
        "\n",
        "print('Boa noite. Bem-vindo a nossa pizzaria.\\n')\n",
        "\n",
        "deseja_prosseguir = input('Gostaria de realizar um pedido? (S/N) ')\n",
        "\n",
        "def chatbot():\n",
        "\n",
        "  quantidade_calabresa = 0\n",
        "  quantidade_queijo = 0\n",
        "  quantidade_pepperoni = 0\n",
        "  valor_pedido = 0\n",
        "  contador = 0\n",
        "\n",
        "  while deseja_prosseguir.lower() == 's':\n",
        "      menu()\n",
        "      pedido_numero = input('Escolha o número da pizza que você gostaria: ')\n",
        "\n",
        "      if pedido_numero == '1':\n",
        "          quantidade_pepperoni += 1\n",
        "          valor_pedido += preco_pepperoni\n",
        "          print(f'Valor parcial do pedido: R${valor_pedido:.2f}')\n",
        "      elif pedido_numero == '2':\n",
        "          quantidade_queijo += 1\n",
        "          valor_pedido += preco_queijo\n",
        "          print(f'Valor parcial do pedido: R${valor_pedido:.2f}')\n",
        "      elif pedido_numero == '3':\n",
        "          quantidade_calabresa += 1\n",
        "          valor_pedido += preco_calabresa\n",
        "          print(f'Valor parcial do pedido: R${valor_pedido:.2f}')\n",
        "      elif contador<5:\n",
        "          print('Opção inválida!')\n",
        "          print(f'Valor parcial do pedido: R${valor_pedido:.2f}')\n",
        "          contador +=1\n",
        "      else:\n",
        "          print('Opção invalida !\\nNúmero de tentativas inválidas alcançadas.\\nEncerrando o pedido.\\n')\n",
        "          print('O seu pedido é o seguinte:\\n')\n",
        "          print(f'|Pizzas de Pepperoni:\\t{quantidade_pepperoni}|')\n",
        "          print(f'|Pizzas de Queijo:\\t{quantidade_queijo}|')\n",
        "          print(f'|Pizzas de Calabresa:\\t{quantidade_calabresa}|')\n",
        "          print(f'O Valor total do seu pedido ficou em: R$ {valor_pedido:.2f}')\n",
        "          break\n",
        "\n",
        "      novo = input('Gostaria de fazer um novo pedido? (S/N) ').lower()\n",
        "      print()\n",
        "\n",
        "      if novo == 's':\n",
        "        continue\n",
        "      elif novo == 'n':\n",
        "        print('O seu pedido é o seguinte:\\n')\n",
        "        print('-' * 26)\n",
        "        print(f'|Pizzas de Pepperoni:\\t{quantidade_pepperoni}|')\n",
        "        print(f'|Pizzas de Queijo:\\t{quantidade_queijo}|')\n",
        "        print(f'|Pizzas de Calabresa:\\t{quantidade_calabresa}|')\n",
        "        print('-' * 26,'\\n')\n",
        "        print(f'O Valor total do seu pedido ficou em: R$ {valor_pedido:.2f}')\n",
        "        break\n",
        "      else:\n",
        "        print('Opção invalida')\n",
        "\n",
        "def menu():\n",
        "  ''' Define os sabores de pizzas diponiveis e imprime o Menu com Valores'''\n",
        "\n",
        "  print('\\tSabor da Pizza\\tValor')\n",
        "  for i in range(len(pizzas_disponiveis)):\n",
        "    elemento_pizzas_disponiveis = pizzas_disponiveis[i]\n",
        "    elemento_preco_pizzas = preco_pizza[i]\n",
        "    print(f'-' * 33,f'| {i + 1}\\t- {elemento_pizzas_disponiveis}:\\tR$ {elemento_preco_pizzas:.2f}|',sep='\\n')\n",
        "  print('-' * 33, '\\n')\n",
        "\n",
        "chatbot()\n",
        "\n",
        "\n",
        "\n"
      ],
      "metadata": {
        "id": "nDd2UrCAyQ4F",
        "colab": {
          "base_uri": "https://localhost:8080/"
        },
        "outputId": "409834bc-de68-4658-f5ef-3bf4a04237b3"
      },
      "execution_count": 16,
      "outputs": [
        {
          "output_type": "stream",
          "name": "stdout",
          "text": [
            "Boa noite. Bem-vindo a nossa pizzaria.\n",
            "\n",
            "Gostaria de realizar um pedido? (S/N) s\n",
            "\tSabor da Pizza\tValor\n",
            "---------------------------------\n",
            "| 1\t- Pepperoni:\tR$ 80.00|\n",
            "---------------------------------\n",
            "| 2\t- Queijo   :\tR$ 50.00|\n",
            "---------------------------------\n",
            "| 3\t- Calabresa:\tR$ 70.00|\n",
            "--------------------------------- \n",
            "\n",
            "Escolha o número da pizza que você gostaria: 2\n",
            "Valor parcial do pedido: R$50.00\n",
            "Gostaria de fazer um novo pedido? (S/N) s\n",
            "\n",
            "\tSabor da Pizza\tValor\n",
            "---------------------------------\n",
            "| 1\t- Pepperoni:\tR$ 80.00|\n",
            "---------------------------------\n",
            "| 2\t- Queijo   :\tR$ 50.00|\n",
            "---------------------------------\n",
            "| 3\t- Calabresa:\tR$ 70.00|\n",
            "--------------------------------- \n",
            "\n",
            "Escolha o número da pizza que você gostaria: 3\n",
            "Valor parcial do pedido: R$120.00\n",
            "Gostaria de fazer um novo pedido? (S/N) n\n",
            "\n",
            "O seu pedido é o seguinte:\n",
            "\n",
            "--------------------------\n",
            "|Pizzas de Pepperoni:\t0|\n",
            "|Pizzas de Queijo:\t1|\n",
            "|Pizzas de Calabresa:\t1|\n",
            "-------------------------- \n",
            "\n",
            "O Valor total do seu pedido ficou em: R$ 120.00\n"
          ]
        }
      ]
    },
    {
      "cell_type": "markdown",
      "source": [],
      "metadata": {
        "id": "_HZIV2Xomz5b"
      }
    },
    {
      "cell_type": "code",
      "source": [],
      "metadata": {
        "id": "V9gTyi8oztdh"
      },
      "execution_count": null,
      "outputs": []
    },
    {
      "cell_type": "code",
      "source": [],
      "metadata": {
        "id": "l4kenEoEzp7p"
      },
      "execution_count": null,
      "outputs": []
    }
  ]
}